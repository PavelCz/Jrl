{
 "cells": [
  {
   "cell_type": "code",
   "execution_count": 42,
   "metadata": {},
   "outputs": [
    {
     "name": "stdout",
     "output_type": "stream",
     "text": [
      "The autoreload extension is already loaded. To reload it, use:\n",
      "  %reload_ext autoreload\n"
     ]
    },
    {
     "data": {
      "text/html": [
       "<style>.container { width:80% !important; }</style>"
      ],
      "text/plain": [
       "<IPython.core.display.HTML object>"
      ]
     },
     "metadata": {},
     "output_type": "display_data"
    }
   ],
   "source": [
    "%load_ext autoreload\n",
    "%autoreload 2\n",
    "from IPython.display import display, HTML\n",
    "display(HTML(\"<style>.container { width:80% !important; }</style>\"))"
   ]
  },
  {
   "cell_type": "code",
   "execution_count": 43,
   "metadata": {},
   "outputs": [],
   "source": [
    "import sys, os\n",
    "os.environ[\"PYTORCH_ENABLE_MPS_FALLBACK\"] = \"1\"\n",
    "sys.path.insert(0, \"..\")\n",
    "import jkinpylib\n",
    "import meshcat\n",
    "import torch\n",
    "import numpy as np\n",
    "import time\n",
    "torch.set_default_device(jkinpylib.config.DEVICE)"
   ]
  },
  {
   "cell_type": "code",
   "execution_count": 44,
   "metadata": {},
   "outputs": [],
   "source": [
    "class Capsule():\n",
    "    def __init__(self, p1, p2, r):\n",
    "        super(Capsule, self).__init__()\n",
    "        self.length = np.linalg.norm(p2 - p1)\n",
    "        self.radius = r\n",
    "        self.T = np.eye(4)\n",
    "        self.T[:3, 3] = (p1 + p2) / 2\n",
    "        v = p2 - p1\n",
    "        v = v / np.linalg.norm(v)\n",
    "        x, y, z = v\n",
    "        sign = 1 if z > 0 else -1\n",
    "        a = -1 / (sign + z)\n",
    "        b = x * y * a\n",
    "        t1 = np.array([1 + sign * x * x * a, sign * b, -sign * x])\n",
    "        t2 = np.array([b, sign + y * y * a, -y])\n",
    "        self.T[:3, 0] = t1\n",
    "        self.T[:3, 1] = v # Meshcat uses y as axis of rotational symmetry\n",
    "        self.T[:3, 2] = t2"
   ]
  },
  {
   "cell_type": "code",
   "execution_count": 45,
   "metadata": {},
   "outputs": [],
   "source": [
    "SHOW_IN_JUPYTER = False\n",
    "ROBOT_TYPE = \"fetch\""
   ]
  },
  {
   "cell_type": "code",
   "execution_count": 48,
   "metadata": {},
   "outputs": [
    {
     "name": "stdout",
     "output_type": "stream",
     "text": [
      "You can open the visualizer by visiting the following URL:\n",
      "http://127.0.0.1:7009/static/\n",
      "Heads up: Setting joint limits to [-pi, pi] for continuous joint 'r_wheel_joint'\n",
      "Heads up: Setting joint limits to [-pi, pi] for continuous joint 'l_wheel_joint'\n",
      "Heads up: Setting joint limits to [-pi, pi] for continuous joint 'upperarm_roll_joint'\n",
      "Heads up: Setting joint limits to [-pi, pi] for continuous joint 'forearm_roll_joint'\n",
      "Heads up: Setting joint limits to [-pi, pi] for continuous joint 'wrist_roll_joint'\n"
     ]
    },
    {
     "name": "stderr",
     "output_type": "stream",
     "text": [
      "ImportImage: Unknown file extension \"png\" on image import file base_link_uv.png\n",
      "ImportImage: Unknown file extension \"png\" on image import file torso_fixed_uv.png\n",
      "ImportImage: Unknown file extension \"png\" on image import file torso_lift_uv.png\n",
      "ImportImage: Unknown file extension \"png\" on image import file head_pan_uv.png\n",
      "ImportImage: Unknown file extension \"png\" on image import file head_tilt_uv.png\n",
      "ImportImage: Unknown file extension \"png\" on image import file shoulder_pan_uv.png\n",
      "ImportImage: Unknown file extension \"png\" on image import file shoulder_lift_uv.png\n",
      "ImportImage: Unknown file extension \"png\" on image import file upperarm_roll_uv.png\n",
      "ImportImage: Unknown file extension \"png\" on image import file elbow_flex_uv.png\n",
      "ImportImage: Unknown file extension \"png\" on image import file forearm_roll_uv.png\n",
      "ImportImage: Unknown file extension \"png\" on image import file wrist_flex_uv.png\n",
      "ImportImage: Unknown file extension \"png\" on image import file wrist_roll_uv.png\n",
      "ImportImage: Unknown file extension \"png\" on image import file gripper_uv.png\n"
     ]
    },
    {
     "name": "stdout",
     "output_type": "stream",
     "text": [
      "WorldModel::LoadRobot: /Users/drm/.cache/jkinpylib/temp_urdfs/fetch_formatted_link_filepaths_absolute.urdf\n",
      "joint limit: no lower, defaults to 0joint limit: no upper, , defaults to 0joint limit: no lower, defaults to 0joint limit: no upper, , defaults to 0URDFParser: joint dynamics: no friction, defaults to 0\n",
      "URDFParser: joint dynamics: no friction, defaults to 0\n",
      "URDFParser: joint dynamics: no friction, defaults to 0\n",
      "joint limit: no lower, defaults to 0joint limit: no upper, , defaults to 0URDFParser: joint dynamics: no friction, defaults to 0\n",
      "URDFParser: joint dynamics: no friction, defaults to 0\n",
      "joint limit: no lower, defaults to 0joint limit: no upper, , defaults to 0URDFParser: joint dynamics: no friction, defaults to 0\n",
      "URDFParser: joint dynamics: no friction, defaults to 0\n",
      "joint limit: no lower, defaults to 0joint limit: no upper, , defaults to 0URDFParser: joint dynamics: no friction, defaults to 0\n",
      "URDFParser: joint dynamics: no friction, defaults to 0\n",
      "URDFParser: joint dynamics: no friction, defaults to 0\n",
      "URDFParser: Link size: 30\n",
      "URDFParser: Joint size: 25\n",
      "AssimpMaterialToAppearance: couldn't load image base_link_uv.png\n",
      "ManagedGeometry: loaded /Users/drm/Projects/IKFLow/jkinpylib/scripts/../jkinpylib/urdfs/fetch/meshes/base_link.dae in time 0.28543s\n",
      "AssimpMaterialToAppearance: couldn't load image torso_fixed_uv.png\n",
      "AssimpMaterialToAppearance: couldn't load image torso_lift_uv.png\n",
      "AssimpMaterialToAppearance: couldn't load image head_pan_uv.png\n",
      "AssimpMaterialToAppearance: couldn't load image head_tilt_uv.png\n",
      "AssimpMaterialToAppearance: couldn't load image shoulder_pan_uv.png\n",
      "AssimpMaterialToAppearance: couldn't load image shoulder_lift_uv.png\n",
      "AssimpMaterialToAppearance: couldn't load image upperarm_roll_uv.png\n",
      "AssimpMaterialToAppearance: couldn't load image elbow_flex_uv.png\n",
      "AssimpMaterialToAppearance: couldn't load image forearm_roll_uv.png\n",
      "AssimpMaterialToAppearance: couldn't load image wrist_flex_uv.png\n",
      "AssimpMaterialToAppearance: couldn't load image wrist_roll_uv.png\n",
      "AssimpMaterialToAppearance: couldn't load image gripper_uv.png\n",
      "URDFParser: Done loading robot file /Users/drm/.cache/jkinpylib/temp_urdfs/fetch_formatted_link_filepaths_absolute.urdf\n"
     ]
    }
   ],
   "source": [
    "vis = meshcat.Visualizer()\n",
    "\n",
    "# A bit hacky, must match the number of links in the robot\n",
    "if ROBOT_TYPE == \"panda\":\n",
    "    robot = jkinpylib.robots.Panda()\n",
    "    vis_mesh_path = \"../jkinpylib/urdfs/panda/meshes/visual\"\n",
    "    links = [\n",
    "        \"link0\",\n",
    "        \"link1\",\n",
    "        \"link2\",\n",
    "        \"link3\",\n",
    "        \"link4\",\n",
    "        \"link5\",\n",
    "        \"link6\",\n",
    "        \"link7\",\n",
    "        # None,\n",
    "        #\"hand\"\n",
    "    ]\n",
    "elif ROBOT_TYPE == \"fetch\":\n",
    "    robot = jkinpylib.robots.Fetch()\n",
    "    vis_mesh_path = \"../jkinpylib/urdfs/fetch/meshes\"\n",
    "    links = [\n",
    "        'base_link',\n",
    "        'torso_lift_link',\n",
    "        'shoulder_pan_link',\n",
    "        'shoulder_lift_link',\n",
    "        'upperarm_roll_link',\n",
    "        'elbow_flex_link',\n",
    "        'forearm_roll_link',\n",
    "        'wrist_flex_link',\n",
    "        'wrist_roll_link',\n",
    "        'gripper_link'\n",
    "    ]\n",
    "\n",
    "link_mask = torch.tensor([link is not None for link in links], dtype=torch.bool)\n",
    "\n",
    "Tcube = meshcat.transformations.translation_matrix([0.4, 0.1, 0.5]) @ meshcat.transformations.rotation_matrix(0.7, [1, 2, 3])\n",
    "cube_lengths = np.array([0.4, 0.5, 0.3])\n",
    "vis[f\"cuboid\"].set_object(\n",
    "    meshcat.geometry.Box(cube_lengths),\n",
    "    meshcat.geometry.MeshToonMaterial(color=0xff8800, wireframe=True)\n",
    ")\n",
    "vis[f\"cuboid\"].set_transform(Tcube)\n",
    "\n",
    "for link_i, link in enumerate(links):\n",
    "    capsule = robot._collision_capsules[link_i, :].cpu().numpy().astype(np.float64)\n",
    "    p1, p2, capsule_radius = capsule[0:3], capsule[3:6], capsule[6]\n",
    "    capsule_geom = Capsule(p1, p2, capsule_radius)\n",
    "    capsule_material = meshcat.geometry.MeshToonMaterial(color=0x8888ff, opacity=0.4)\n",
    "\n",
    "    vis[f\"{robot.name}/{link}/capsule/p1\"].set_transform(meshcat.transformations.translation_matrix(p1))\n",
    "    vis[f\"{robot.name}/{link}/capsule/p2\"].set_transform(meshcat.transformations.translation_matrix(p2))\n",
    "    vis[f\"{robot.name}/{link}/capsule/cyl\"].set_transform(capsule_geom.T)\n",
    "    vis[f\"{robot.name}/{link}/mesh\"].set_object(\n",
    "        meshcat.geometry.DaeMeshGeometry.from_file(f\"{vis_mesh_path}/{link}.dae\"),\n",
    "        meshcat.geometry.MeshLambertMaterial(color=0xffffff)\n",
    "    )\n",
    "    vis[f\"{robot.name}/{link}/capsule/p1\"].set_object(meshcat.geometry.Sphere(capsule_radius), capsule_material)\n",
    "    vis[f\"{robot.name}/{link}/capsule/p2\"].set_object(meshcat.geometry.Sphere(capsule_radius), capsule_material)\n",
    "    cyl_geom = meshcat.geometry.Cylinder(capsule_geom.length, capsule_radius)\n",
    "    vis[f\"{robot.name}/{link}/capsule/cyl\"].set_object(cyl_geom, capsule_material)\n",
    "\n",
    "\n",
    "if SHOW_IN_JUPYTER:\n",
    "    vis.jupyter_cell()\n",
    "else:\n",
    "    vis.open()"
   ]
  },
  {
   "cell_type": "code",
   "execution_count": 50,
   "metadata": {},
   "outputs": [],
   "source": [
    "q = torch.zeros((1, robot.n_dofs))\n",
    "n = robot._capsule_idx_to_link_idx.shape[0]\n",
    "\n",
    "\n",
    "for t in range(500):\n",
    "    joint_idx = t % robot.n_dofs\n",
    "    l, u = robot.actuated_joints_limits[joint_idx]\n",
    "    q[0, joint_idx] = (u-l)*torch.rand(1) + l\n",
    "    q = robot.clamp_to_joint_limits(q)\n",
    "    \n",
    "    \n",
    "    base_T_links = robot.forward_kinematics_batch(q, return_full_link_fk=True, out_device=q.device, dtype=q.dtype)\n",
    "\n",
    "    T1s = base_T_links[:, robot._collision_idx0, :, :].reshape(-1, 4, 4)\n",
    "    T2s = base_T_links[:, robot._collision_idx1, :, :].reshape(-1, 4, 4)\n",
    "    c1s = robot._collision_capsules[robot._collision_idx0, :].expand(1, -1, -1).reshape(-1, 7)\n",
    "    c2s = robot._collision_capsules[robot._collision_idx1, :].expand(1, -1, -1).reshape(-1, 7)\n",
    "    start = time.time()\n",
    "    self_dists = jkinpylib.geometry.capsule_capsule_distance_batch(c1s, T1s, c2s, T2s).reshape(1, -1)\n",
    "    end = time.time()\n",
    "    \n",
    "    caps = robot._collision_capsules\n",
    "    Tcaps = base_T_links[:, robot._capsule_idx_to_link_idx, :, :].reshape(-1, 4, 4)\n",
    "    x, y, z = cube_lengths.astype(np.float32)/2\n",
    "    cubes = torch.tensor([[-x, -y, -z, x, y, z]]).expand(n, 6)\n",
    "    Tcubes = torch.tensor(Tcube, dtype=torch.float32).expand(n, 4, 4)\n",
    "    start = time.time()\n",
    "    env_dists = jkinpylib.geometry.capsule_cuboid_distance_batch(caps, Tcaps, cubes, Tcubes)\n",
    "    end = time.time()\n",
    "\n",
    "    is_self_collision = False\n",
    "    for link_i, link in enumerate(links):\n",
    "        if link is None:\n",
    "            continue\n",
    "\n",
    "        T = base_T_links[0, link_i, :, :].cpu().numpy().astype(np.float64)\n",
    "        vis[f\"{robot.name}/{link}\"].set_transform(T)\n",
    "\n",
    "        color = [0.0, 1.0, 0.0, 0.4]\n",
    "        is_self_collide = torch.any(self_dists[0, robot._collision_idx0 == link_i] < 0) or torch.any(self_dists[0, robot._collision_idx1 == link_i] < 0)\n",
    "        if is_self_collide:\n",
    "            color = [1.0, 0.0, 0.0, 0.4]\n",
    "            is_self_collision = True\n",
    "\n",
    "        is_env_collide = env_dists[link_i, 0] < 0\n",
    "        if is_env_collide:\n",
    "            color = [1.0, 0.5, 0.0, 0.4]\n",
    "\n",
    "        vis[f\"{robot.name}/{link}/capsule/p1\"].set_property(\"color\", color)\n",
    "        vis[f\"{robot.name}/{link}/capsule/p2\"].set_property(\"color\", color)\n",
    "        vis[f\"{robot.name}/{link}/capsule/cyl\"].set_property(\"color\", color)"
   ]
  },
  {
   "cell_type": "code",
   "execution_count": 9,
   "metadata": {},
   "outputs": [
    {
     "name": "stdout",
     "output_type": "stream",
     "text": [
      "base_T_links.shape: torch.Size([1, 10, 4, 4])\n",
      "n: 8\n",
      "robot._capsule_idx_to_link_idx: torch.Size([8]) tensor([0, 1, 2, 3, 4, 5, 6, 7], device='mps:0')\n",
      "tensor([[-0.2000, -0.2500, -0.1500,  0.2000,  0.2500,  0.1500],\n",
      "        [-0.2000, -0.2500, -0.1500,  0.2000,  0.2500,  0.1500],\n",
      "        [-0.2000, -0.2500, -0.1500,  0.2000,  0.2500,  0.1500],\n",
      "        [-0.2000, -0.2500, -0.1500,  0.2000,  0.2500,  0.1500],\n",
      "        [-0.2000, -0.2500, -0.1500,  0.2000,  0.2500,  0.1500],\n",
      "        [-0.2000, -0.2500, -0.1500,  0.2000,  0.2500,  0.1500],\n",
      "        [-0.2000, -0.2500, -0.1500,  0.2000,  0.2500,  0.1500],\n",
      "        [-0.2000, -0.2500, -0.1500,  0.2000,  0.2500,  0.1500]],\n",
      "       device='mps:0')\n",
      "torch.Size([8, 7]) torch.Size([8, 4, 4]) torch.Size([8, 6]) torch.Size([8, 4, 4])\n"
     ]
    }
   ],
   "source": [
    "x = torch.tensor([[0, -np.pi/4, 0, 0.86*-3*np.pi/4, 0, np.pi/2, 0]])\n",
    "\n",
    "base_T_links = robot.forward_kinematics_batch(x, return_full_link_fk=True, out_device=x.device, dtype=x.dtype)\n",
    "\n",
    "T1s = base_T_links[:, robot._collision_idx0, :, :].reshape(-1, 4, 4)\n",
    "T2s = base_T_links[:, robot._collision_idx1, :, :].reshape(-1, 4, 4)\n",
    "c1s = robot._collision_capsules[robot._collision_idx0, :].expand(1, -1, -1).reshape(-1, 7)\n",
    "c2s = robot._collision_capsules[robot._collision_idx1, :].expand(1, -1, -1).reshape(-1, 7)\n",
    "self_dists = jkinpylib.geometry.capsule_capsule_distance_batch(c1s, T1s, c2s, T2s).reshape(1, -1)\n",
    "\n",
    "n = robot._capsule_idx_to_link_idx.shape[0]\n",
    "caps = robot._collision_capsules\n",
    "Tcaps = base_T_links[:, robot._capsule_idx_to_link_idx, :, :].reshape(-1, 4, 4)\n",
    "x, y, z = cube_lengths.astype(np.float32)/2\n",
    "cubes = torch.tensor([[-x, -y, -z, x, y, z]]).expand(n, 6)\n",
    "Tcubes = torch.tensor(Tcube, dtype=torch.float32).expand(n, 4, 4)\n",
    "env_dists = jkinpylib.geometry.capsule_cuboid_distance_batch(caps, Tcaps, cubes, Tcubes)\n",
    "\n",
    "for link_i, link in enumerate(links):\n",
    "    if link is None:\n",
    "        continue\n",
    "\n",
    "    T = base_T_links[0, link_i, :, :].cpu().numpy().astype(np.float64)\n",
    "    vis[f\"{robot.name}/{link}\"].set_transform(T)\n",
    "\n",
    "    color = [0.0, 1.0, 0.0, 0.4]\n",
    "    is_self_collide = torch.any(self_dists[0, robot._collision_idx0 == link_i] < 0) or torch.any(self_dists[0, robot._collision_idx1 == link_i] < 0)\n",
    "    if is_self_collide:\n",
    "        color = [1.0, 0.0, 0.0, 0.4]\n",
    "    \n",
    "    is_env_collide = env_dists[link_i, 0] < 0\n",
    "    if is_env_collide:\n",
    "        color = [1.0, 0.5, 0.0, 0.4]\n",
    "\n",
    "    vis[f\"{robot.name}/{link}/capsule/p1\"].set_property(\"color\", color)\n",
    "    vis[f\"{robot.name}/{link}/capsule/p2\"].set_property(\"color\", color)\n",
    "    vis[f\"{robot.name}/{link}/capsule/cyl\"].set_property(\"color\", color)"
   ]
  },
  {
   "cell_type": "code",
   "execution_count": null,
   "metadata": {},
   "outputs": [],
   "source": []
  },
  {
   "cell_type": "code",
   "execution_count": null,
   "metadata": {},
   "outputs": [],
   "source": []
  }
 ],
 "metadata": {
  "kernelspec": {
   "display_name": "Python 3 (ipykernel)",
   "language": "python",
   "name": "python3"
  },
  "language_info": {
   "codemirror_mode": {
    "name": "ipython",
    "version": 3
   },
   "file_extension": ".py",
   "mimetype": "text/x-python",
   "name": "python",
   "nbconvert_exporter": "python",
   "pygments_lexer": "ipython3",
   "version": "3.8.16"
  }
 },
 "nbformat": 4,
 "nbformat_minor": 2
}
