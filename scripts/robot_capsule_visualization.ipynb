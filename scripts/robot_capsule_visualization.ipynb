{
 "cells": [
  {
   "cell_type": "code",
   "execution_count": 21,
   "metadata": {},
   "outputs": [
    {
     "name": "stdout",
     "output_type": "stream",
     "text": [
      "You can open the visualizer by visiting the following URL:\n",
      "http://127.0.0.1:7002/static/\n"
     ]
    }
   ],
   "source": [
    "import sys, os\n",
    "os.environ[\"PYTORCH_ENABLE_MPS_FALLBACK\"] = \"1\"\n",
    "sys.path.append(\"..\")\n",
    "import jkinpylib\n",
    "import meshcat\n",
    "import torch\n",
    "import numpy as np\n",
    "vis = meshcat.Visualizer()\n",
    "torch.set_default_device(jkinpylib.config.DEVICE)"
   ]
  },
  {
   "cell_type": "code",
   "execution_count": 63,
   "metadata": {},
   "outputs": [],
   "source": [
    "class Capsule():\n",
    "    def __init__(self, p1, p2, r):\n",
    "        super(Capsule, self).__init__()\n",
    "        self.length = np.linalg.norm(p2 - p1)\n",
    "        self.radius = r\n",
    "        self.T = np.eye(4)\n",
    "        self.T[:3, 3] = (p1 + p2) / 2\n",
    "        v = p2 - p1\n",
    "        v = v / np.linalg.norm(v)\n",
    "        x, y, z = v\n",
    "        sign = 1 if z > 0 else -1\n",
    "        a = -1 / (sign + z)\n",
    "        b = x * y * a\n",
    "        t1 = np.array([1 + sign * x * x * a, sign * b, -sign * x])\n",
    "        t2 = np.array([b, sign + y * y * a, -y])\n",
    "        self.T[:3, 0] = t1\n",
    "        self.T[:3, 1] = v # Meshcat uses y as axis of rotational symmetry\n",
    "        self.T[:3, 2] = t2"
   ]
  },
  {
   "cell_type": "code",
   "execution_count": 78,
   "metadata": {},
   "outputs": [
    {
     "name": "stdout",
     "output_type": "stream",
     "text": [
      "WorldModel::LoadRobot: /Users/drm/.cache/jkinpylib/temp_urdfs/panda_arm_hand_formatted_link_filepaths_absolute.urdf\n",
      "joint mimic: no multiplier, using default value of 1 \n",
      "joint mimic: no offset, using default value of 0 \n",
      "URDFParser: Link size: 17\n",
      "URDFParser: Joint size: 12\n",
      "Geometry: Loading 12 meshes from /Users/drm/Projects/IKFLow/jkinpylib/scripts/../jkinpylib/urdfs/panda/meshes/visual/link0.dae into Group\n",
      "Geometry: Loading 4 meshes from /Users/drm/Projects/IKFLow/jkinpylib/scripts/../jkinpylib/urdfs/panda/meshes/visual/link3.dae into Group\n",
      "Geometry: Loading 4 meshes from /Users/drm/Projects/IKFLow/jkinpylib/scripts/../jkinpylib/urdfs/panda/meshes/visual/link4.dae into Group\n",
      "Geometry: Loading 3 meshes from /Users/drm/Projects/IKFLow/jkinpylib/scripts/../jkinpylib/urdfs/panda/meshes/visual/link5.dae into Group\n",
      "Geometry: Loading 17 meshes from /Users/drm/Projects/IKFLow/jkinpylib/scripts/../jkinpylib/urdfs/panda/meshes/visual/link6.dae into Group\n",
      "Geometry: Loading 8 meshes from /Users/drm/Projects/IKFLow/jkinpylib/scripts/../jkinpylib/urdfs/panda/meshes/visual/link7.dae into Group\n",
      "Geometry: Loading 5 meshes from /Users/drm/Projects/IKFLow/jkinpylib/scripts/../jkinpylib/urdfs/panda/meshes/visual/hand.dae into Group\n",
      "Geometry: Loading 2 meshes from /Users/drm/Projects/IKFLow/jkinpylib/scripts/../jkinpylib/urdfs/panda/meshes/visual/finger.dae into Group\n",
      "Geometry: Loading 2 meshes from /Users/drm/Projects/IKFLow/jkinpylib/scripts/../jkinpylib/urdfs/panda/meshes/visual/finger.dae into Group\n",
      "URDFParser: Done loading robot file /Users/drm/.cache/jkinpylib/temp_urdfs/panda_arm_hand_formatted_link_filepaths_absolute.urdf\n",
      "caps1.device mps:0\n",
      "T1.device mps:0\n",
      "caps1.device mps:0\n",
      "T1.device mps:0\n",
      "caps1.device mps:0\n",
      "T1.device mps:0\n",
      "caps1.device mps:0\n",
      "T1.device mps:0\n",
      "caps1.device mps:0\n",
      "T1.device mps:0\n",
      "caps1.device mps:0\n",
      "T1.device mps:0\n",
      "caps1.device mps:0\n",
      "T1.device mps:0\n",
      "caps1.device mps:0\n",
      "T1.device mps:0\n",
      "caps1.device mps:0\n",
      "T1.device mps:0\n",
      "caps1.device mps:0\n",
      "T1.device mps:0\n",
      "caps1.device mps:0\n",
      "T1.device mps:0\n",
      "caps1.device mps:0\n",
      "T1.device mps:0\n",
      "caps1.device mps:0\n",
      "T1.device mps:0\n",
      "caps1.device mps:0\n",
      "T1.device mps:0\n",
      "caps1.device mps:0\n",
      "T1.device mps:0\n",
      "caps1.device mps:0\n",
      "T1.device mps:0\n",
      "caps1.device mps:0\n",
      "T1.device mps:0\n",
      "caps1.device mps:0\n",
      "T1.device mps:0\n",
      "caps1.device mps:0\n",
      "T1.device mps:0\n",
      "caps1.device mps:0\n",
      "T1.device mps:0\n"
     ]
    }
   ],
   "source": [
    "vis.delete()\n",
    "robot = jkinpylib.robots.Panda()\n",
    "\n",
    "links = [\n",
    "    \"link0\",\n",
    "    \"link1\",\n",
    "    \"link2\",\n",
    "    \"link3\",\n",
    "    \"link4\",\n",
    "    \"link5\",\n",
    "    \"link6\",\n",
    "    \"link7\",\n",
    "]\n",
    "x = torch.zeros(1, robot.n_dofs)\n",
    "for t in range(20):\n",
    "    x[0, 4]= t/20*np.pi\n",
    "    base_T_joints = robot.forward_kinematics_batch(\n",
    "        x, return_full=True, out_device=x.device, dtype=x.dtype\n",
    "    )\n",
    "    T1s = base_T_joints[:, robot._collision_idx0, :, :].reshape(-1, 4, 4)\n",
    "    T2s = base_T_joints[:, robot._collision_idx1, :, :].reshape(-1, 4, 4)\n",
    "    c1s = (\n",
    "        robot._collision_capsules[robot._collision_idx0, :]\n",
    "        .expand(1, -1, -1)\n",
    "        .reshape(-1, 7)\n",
    "    )\n",
    "    c2s = (\n",
    "        robot._collision_capsules[robot._collision_idx1, :]\n",
    "        .expand(1, -1, -1)\n",
    "        .reshape(-1, 7)\n",
    "    )\n",
    "\n",
    "    dists = jkinpylib.geometry.capsule_capsule_distance_batch(\n",
    "        c1s, T1s, c2s, T2s\n",
    "    ).reshape(1, -1)\n",
    "\n",
    "    for link_i, link in enumerate(links):\n",
    "        if link is None:\n",
    "            continue\n",
    "\n",
    "        T = base_T_joints[0, link_i, :, :].cpu().numpy().astype(np.float64)\n",
    "        vis[f\"panda/{link}\"].set_transform(T)\n",
    "\n",
    "        vis[f\"panda/{link}/mesh\"].set_object(\n",
    "            meshcat.geometry.DaeMeshGeometry.from_file(f\"../jkinpylib/urdfs/panda/meshes/visual/{link}.dae\"),\n",
    "            meshcat.geometry.MeshLambertMaterial(color=0xffffff)\n",
    "        )\n",
    "\n",
    "        capsule = robot._collision_capsules[link_i, :].cpu().numpy().astype(np.float64)\n",
    "        p1, p2, capsule_radius = capsule[:3], capsule[3:6], capsule[6]\n",
    "        capsule_geom = Capsule(p1, p2, capsule_radius)\n",
    "        color = 0x00ff00\n",
    "        is_collide = torch.any(dists[0, robot._collision_idx0 == link_i] < 0) or torch.any(dists[0, robot._collision_idx1 == link_i] < 0)\n",
    "        if is_collide:\n",
    "            color = 0xff0000\n",
    "        material = meshcat.geometry.MeshLambertMaterial(color=color, opacity=0.4)\n",
    "        vis[f\"panda/{link}/capsule/p1\"].set_object(meshcat.geometry.Sphere(capsule_radius), material)\n",
    "        vis[f\"panda/{link}/capsule/p1\"].set_transform(meshcat.transformations.translation_matrix(p1))\n",
    "        vis[f\"panda/{link}/capsule/p2\"].set_object(meshcat.geometry.Sphere(capsule_radius), material)\n",
    "        vis[f\"panda/{link}/capsule/p2\"].set_transform(meshcat.transformations.translation_matrix(p2))\n",
    "        cyl_geom = meshcat.geometry.Cylinder(capsule_geom.length, capsule_radius)\n",
    "        vis[f\"panda/{link}/capsule/cyl\"].set_object(cyl_geom, material)\n",
    "        vis[f\"panda/{link}/capsule/cyl\"].set_transform(capsule_geom.T)\n"
   ]
  },
  {
   "cell_type": "code",
   "execution_count": 54,
   "metadata": {},
   "outputs": [
    {
     "data": {
      "text/html": [
       "\n",
       "            <div style=\"height: 400px; width: 100%; overflow-x: auto; overflow-y: hidden; resize: both\">\n",
       "            <iframe src=\"http://127.0.0.1:7002/static/\" style=\"width: 100%; height: 100%; border: none\"></iframe>\n",
       "            </div>\n",
       "            "
      ],
      "text/plain": [
       "<IPython.core.display.HTML object>"
      ]
     },
     "execution_count": 54,
     "metadata": {},
     "output_type": "execute_result"
    }
   ],
   "source": [
    "vis.jupyter_cell()"
   ]
  },
  {
   "cell_type": "code",
   "execution_count": 71,
   "metadata": {},
   "outputs": [
    {
     "data": {
      "text/plain": [
       "<Visualizer using: <meshcat.visualizer.ViewerWindow object at 0x2a4aecdc0> at path: <meshcat.path.Path object at 0x17db5a400>>"
      ]
     },
     "execution_count": 71,
     "metadata": {},
     "output_type": "execute_result"
    }
   ],
   "source": [
    "vis.open()"
   ]
  },
  {
   "cell_type": "code",
   "execution_count": null,
   "metadata": {},
   "outputs": [],
   "source": []
  }
 ],
 "metadata": {
  "kernelspec": {
   "display_name": "jkinpylib-85zxWVKj-py3.8",
   "language": "python",
   "name": "python3"
  },
  "language_info": {
   "codemirror_mode": {
    "name": "ipython",
    "version": 3
   },
   "file_extension": ".py",
   "mimetype": "text/x-python",
   "name": "python",
   "nbconvert_exporter": "python",
   "pygments_lexer": "ipython3",
   "version": "3.8.16"
  },
  "orig_nbformat": 4
 },
 "nbformat": 4,
 "nbformat_minor": 2
}
