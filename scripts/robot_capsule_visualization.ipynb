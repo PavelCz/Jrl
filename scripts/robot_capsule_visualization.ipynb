{
 "cells": [
  {
   "cell_type": "code",
   "execution_count": 1,
   "metadata": {},
   "outputs": [
    {
     "data": {
      "text/html": [
       "<style>.container { width:80% !important; }</style>"
      ],
      "text/plain": [
       "<IPython.core.display.HTML object>"
      ]
     },
     "metadata": {},
     "output_type": "display_data"
    }
   ],
   "source": [
    "%load_ext autoreload\n",
    "%autoreload 2\n",
    "from IPython.display import display, HTML\n",
    "display(HTML(\"<style>.container { width:80% !important; }</style>\"))"
   ]
  },
  {
   "cell_type": "code",
   "execution_count": 2,
   "metadata": {},
   "outputs": [],
   "source": [
    "import sys, os\n",
    "os.environ[\"PYTORCH_ENABLE_MPS_FALLBACK\"] = \"1\"\n",
    "sys.path.insert(0, \"..\")\n",
    "import jkinpylib\n",
    "import meshcat\n",
    "import torch\n",
    "import numpy as np\n",
    "import time\n",
    "torch.set_default_device(jkinpylib.config.DEVICE)"
   ]
  },
  {
   "cell_type": "code",
   "execution_count": 3,
   "metadata": {},
   "outputs": [],
   "source": [
    "class Capsule():\n",
    "    def __init__(self, p1, p2, r):\n",
    "        super(Capsule, self).__init__()\n",
    "        self.length = np.linalg.norm(p2 - p1)\n",
    "        self.radius = r\n",
    "        self.T = np.eye(4)\n",
    "        self.T[:3, 3] = (p1 + p2) / 2\n",
    "        v = p2 - p1\n",
    "        v = v / np.linalg.norm(v)\n",
    "        x, y, z = v\n",
    "        sign = 1 if z > 0 else -1\n",
    "        a = -1 / (sign + z)\n",
    "        b = x * y * a\n",
    "        t1 = np.array([1 + sign * x * x * a, sign * b, -sign * x])\n",
    "        t2 = np.array([b, sign + y * y * a, -y])\n",
    "        self.T[:3, 0] = t1\n",
    "        self.T[:3, 1] = v # Meshcat uses y as axis of rotational symmetry\n",
    "        self.T[:3, 2] = t2"
   ]
  },
  {
   "cell_type": "code",
   "execution_count": 4,
   "metadata": {},
   "outputs": [],
   "source": [
    "SHOW_IN_JUPYTER = False\n",
    "ROBOT_TYPE = \"fetch\""
   ]
  },
  {
   "cell_type": "code",
   "execution_count": 5,
   "metadata": {},
   "outputs": [
    {
     "name": "stdout",
     "output_type": "stream",
     "text": [
      "You can open the visualizer by visiting the following URL:\n",
      "http://127.0.0.1:7001/static/\n",
      "Heads up: Setting joint limits to [-pi, pi] for continuous joint 'r_wheel_joint'\n",
      "Heads up: Setting joint limits to [-pi, pi] for continuous joint 'l_wheel_joint'\n",
      "Heads up: Setting joint limits to [-pi, pi] for continuous joint 'upperarm_roll_joint'\n",
      "Heads up: Setting joint limits to [-pi, pi] for continuous joint 'forearm_roll_joint'\n",
      "Heads up: Setting joint limits to [-pi, pi] for continuous joint 'wrist_roll_joint'\n",
      "WorldModel::LoadRobot: /Users/drm/.cache/jkinpylib/temp_urdfs/fetch_formatted_link_filepaths_absolute.urdf\n",
      "joint limit: no lower, defaults to 0joint limit: no upper, , defaults to 0joint limit: no lower, defaults to 0joint limit: no upper, , defaults to 0URDFParser: joint dynamics: no friction, defaults to 0\n",
      "URDFParser: joint dynamics: no friction, defaults to 0\n",
      "URDFParser: joint dynamics: no friction, defaults to 0\n",
      "joint limit: no lower, defaults to 0joint limit: no upper, , defaults to 0URDFParser: joint dynamics: no friction, defaults to 0\n",
      "URDFParser: joint dynamics: no friction, defaults to 0\n",
      "joint limit: no lower, defaults to 0joint limit: no upper, , defaults to 0URDFParser: joint dynamics: no friction, defaults to 0\n",
      "URDFParser: joint dynamics: no friction, defaults to 0\n",
      "joint limit: no lower, defaults to 0joint limit: no upper, , defaults to 0URDFParser: joint dynamics: no friction, defaults to 0\n",
      "URDFParser: joint dynamics: no friction, defaults to 0\n",
      "URDFParser: joint dynamics: no friction, defaults to 0\n",
      "URDFParser: Link size: 30\n",
      "URDFParser: Joint size: 25\n",
      "AssimpMaterialToAppearance: couldn't load image base_link_uv.png\n",
      "ManagedGeometry: loaded /Users/drm/Projects/IKFLow/jkinpylib/scripts/../jkinpylib/urdfs/fetch/meshes/base_link.dae in time 0.270092s\n",
      "AssimpMaterialToAppearance: couldn't load image torso_fixed_uv.png\n",
      "AssimpMaterialToAppearance: couldn't load image torso_lift_uv.png\n",
      "AssimpMaterialToAppearance: couldn't load image head_pan_uv.png\n",
      "AssimpMaterialToAppearance: couldn't load image head_tilt_uv.png\n",
      "AssimpMaterialToAppearance: couldn't load image shoulder_pan_uv.png\n",
      "AssimpMaterialToAppearance: couldn't load image shoulder_lift_uv.png\n",
      "AssimpMaterialToAppearance: couldn't load image upperarm_roll_uv.png\n",
      "AssimpMaterialToAppearance: couldn't load image elbow_flex_uv.png\n",
      "AssimpMaterialToAppearance: couldn't load image forearm_roll_uv.png\n",
      "AssimpMaterialToAppearance: couldn't load image wrist_flex_uv.png\n",
      "AssimpMaterialToAppearance: couldn't load image wrist_roll_uv.png\n",
      "AssimpMaterialToAppearance: couldn't load image gripper_uv.png\n",
      "URDFParser: Done loading robot file /Users/drm/.cache/jkinpylib/temp_urdfs/fetch_formatted_link_filepaths_absolute.urdf\n",
      "Initialized robot collision data structures in time 0.331569\n"
     ]
    },
    {
     "name": "stderr",
     "output_type": "stream",
     "text": [
      "ImportImage: Unknown file extension \"png\" on image import file base_link_uv.png\n",
      "ImportImage: Unknown file extension \"png\" on image import file torso_fixed_uv.png\n",
      "ImportImage: Unknown file extension \"png\" on image import file torso_lift_uv.png\n",
      "ImportImage: Unknown file extension \"png\" on image import file head_pan_uv.png\n",
      "ImportImage: Unknown file extension \"png\" on image import file head_tilt_uv.png\n",
      "ImportImage: Unknown file extension \"png\" on image import file shoulder_pan_uv.png\n",
      "ImportImage: Unknown file extension \"png\" on image import file shoulder_lift_uv.png\n",
      "ImportImage: Unknown file extension \"png\" on image import file upperarm_roll_uv.png\n",
      "ImportImage: Unknown file extension \"png\" on image import file elbow_flex_uv.png\n",
      "ImportImage: Unknown file extension \"png\" on image import file forearm_roll_uv.png\n",
      "ImportImage: Unknown file extension \"png\" on image import file wrist_flex_uv.png\n",
      "ImportImage: Unknown file extension \"png\" on image import file wrist_roll_uv.png\n",
      "ImportImage: Unknown file extension \"png\" on image import file gripper_uv.png\n"
     ]
    }
   ],
   "source": [
    "vis = meshcat.Visualizer()\n",
    "\n",
    "# A bit hacky, must match the number of links in the robot\n",
    "if ROBOT_TYPE == \"panda\":\n",
    "    robot = jkinpylib.robots.Panda()\n",
    "    vis_mesh_path = \"../jkinpylib/urdfs/panda/meshes/visual\"\n",
    "    links = [\n",
    "        \"link0\",\n",
    "        \"link1\",\n",
    "        \"link2\",\n",
    "        \"link3\",\n",
    "        \"link4\",\n",
    "        \"link5\",\n",
    "        \"link6\",\n",
    "        \"link7\",\n",
    "        # None,\n",
    "        #\"hand\"\n",
    "    ]\n",
    "elif ROBOT_TYPE == \"fetch\":\n",
    "    robot = jkinpylib.robots.Fetch()\n",
    "    vis_mesh_path = \"../jkinpylib/urdfs/fetch/meshes\"\n",
    "    links = [\n",
    "        'base_link',\n",
    "        'torso_lift_link',\n",
    "        'shoulder_pan_link',\n",
    "        'shoulder_lift_link',\n",
    "        'upperarm_roll_link',\n",
    "        'elbow_flex_link',\n",
    "        'forearm_roll_link',\n",
    "        'wrist_flex_link',\n",
    "        'wrist_roll_link',\n",
    "        'gripper_link'\n",
    "    ]\n",
    "\n",
    "link_mask = torch.tensor([link is not None for link in links], dtype=torch.bool)\n",
    "\n",
    "Tcube = meshcat.transformations.translation_matrix([0.4, 0.1, 0.5]) @ meshcat.transformations.rotation_matrix(0.7, [1, 2, 3])\n",
    "cube_lengths = np.array([0.4, 0.5, 0.3])\n",
    "vis[f\"cuboid\"].set_object(\n",
    "    meshcat.geometry.Box(cube_lengths),\n",
    "    meshcat.geometry.MeshToonMaterial(color=0xff8800, wireframe=True)\n",
    ")\n",
    "vis[f\"cuboid\"].set_transform(Tcube)\n",
    "\n",
    "for link_i, link in enumerate(links):\n",
    "    capsule = robot._collision_capsules[link_i, :].cpu().numpy().astype(np.float64)\n",
    "    p1, p2, capsule_radius = capsule[0:3], capsule[3:6], capsule[6]\n",
    "    capsule_geom = Capsule(p1, p2, capsule_radius)\n",
    "    capsule_material = meshcat.geometry.MeshToonMaterial(color=0x8888ff, opacity=0.4)\n",
    "\n",
    "    vis[f\"{robot.name}/{link}/capsule/p1\"].set_transform(meshcat.transformations.translation_matrix(p1))\n",
    "    vis[f\"{robot.name}/{link}/capsule/p2\"].set_transform(meshcat.transformations.translation_matrix(p2))\n",
    "    vis[f\"{robot.name}/{link}/capsule/cyl\"].set_transform(capsule_geom.T)\n",
    "    vis[f\"{robot.name}/{link}/mesh\"].set_object(\n",
    "        meshcat.geometry.DaeMeshGeometry.from_file(f\"{vis_mesh_path}/{link}.dae\"),\n",
    "        meshcat.geometry.MeshLambertMaterial(color=0xffffff)\n",
    "    )\n",
    "    vis[f\"{robot.name}/{link}/capsule/p1\"].set_object(meshcat.geometry.Sphere(capsule_radius), capsule_material)\n",
    "    vis[f\"{robot.name}/{link}/capsule/p2\"].set_object(meshcat.geometry.Sphere(capsule_radius), capsule_material)\n",
    "    cyl_geom = meshcat.geometry.Cylinder(capsule_geom.length, capsule_radius)\n",
    "    vis[f\"{robot.name}/{link}/capsule/cyl\"].set_object(cyl_geom, capsule_material)\n",
    "\n",
    "\n",
    "if SHOW_IN_JUPYTER:\n",
    "    vis.jupyter_cell()\n",
    "else:\n",
    "    vis.open()"
   ]
  },
  {
   "cell_type": "code",
   "execution_count": 6,
   "metadata": {},
   "outputs": [
    {
     "name": "stderr",
     "output_type": "stream",
     "text": [
      "/Users/drm/.pyenv/versions/3.8.16/lib/python3.8/site-packages/torch/utils/_device.py:62: UserWarning: The operator 'aten::_linalg_solve_ex.result' is not currently supported on the MPS backend and will fall back to run on the CPU. This may have performance implications. (Triggered internally at /Users/runner/work/pytorch/pytorch/pytorch/aten/src/ATen/mps/MPSFallback.mm:11.)\n",
      "  return func(*args, **kwargs)\n"
     ]
    }
   ],
   "source": [
    "q = torch.zeros((1, robot.n_dofs))\n",
    "n = robot._capsule_idx_to_link_idx.shape[0]\n",
    "\n",
    "\n",
    "for t in range(500):\n",
    "    joint_idx = t % robot.n_dofs\n",
    "    l, u = robot.actuated_joints_limits[joint_idx]\n",
    "    q[0, joint_idx] = (u-l)*torch.rand(1) + l\n",
    "    q = robot.clamp_to_joint_limits(q)\n",
    "    \n",
    "    \n",
    "    base_T_links = robot.forward_kinematics_batch(q, return_full_link_fk=True, out_device=q.device, dtype=q.dtype)\n",
    "\n",
    "    T1s = base_T_links[:, robot._collision_idx0, :, :].reshape(-1, 4, 4)\n",
    "    T2s = base_T_links[:, robot._collision_idx1, :, :].reshape(-1, 4, 4)\n",
    "    c1s = robot._collision_capsules[robot._collision_idx0, :].expand(1, -1, -1).reshape(-1, 7)\n",
    "    c2s = robot._collision_capsules[robot._collision_idx1, :].expand(1, -1, -1).reshape(-1, 7)\n",
    "    start = time.time()\n",
    "    self_dists = jkinpylib.geometry.capsule_capsule_distance_batch(c1s, T1s, c2s, T2s).reshape(1, -1)\n",
    "    end = time.time()\n",
    "    \n",
    "    caps = robot._collision_capsules\n",
    "    Tcaps = base_T_links[:, robot._capsule_idx_to_link_idx, :, :].reshape(-1, 4, 4)\n",
    "    x, y, z = cube_lengths.astype(np.float32)/2\n",
    "    cubes = torch.tensor([[-x, -y, -z, x, y, z]]).expand(n, 6)\n",
    "    Tcubes = torch.tensor(Tcube, dtype=torch.float32).expand(n, 4, 4)\n",
    "    start = time.time()\n",
    "    env_dists = jkinpylib.geometry.capsule_cuboid_distance_batch(caps, Tcaps, cubes, Tcubes)\n",
    "    end = time.time()\n",
    "\n",
    "    is_self_collision = False\n",
    "    for link_i, link in enumerate(links):\n",
    "        if link is None:\n",
    "            continue\n",
    "\n",
    "        T = base_T_links[0, link_i, :, :].cpu().numpy().astype(np.float64)\n",
    "        vis[f\"{robot.name}/{link}\"].set_transform(T)\n",
    "\n",
    "        color = [0.0, 1.0, 0.0, 0.4]\n",
    "        is_self_collide = torch.any(self_dists[0, robot._collision_idx0 == link_i] < 0) or torch.any(self_dists[0, robot._collision_idx1 == link_i] < 0)\n",
    "        if is_self_collide:\n",
    "            color = [1.0, 0.0, 0.0, 0.4]\n",
    "            is_self_collision = True\n",
    "\n",
    "        is_env_collide = env_dists[link_i, 0] < 0\n",
    "        if is_env_collide:\n",
    "            color = [1.0, 0.5, 0.0, 0.4]\n",
    "\n",
    "        vis[f\"{robot.name}/{link}/capsule/p1\"].set_property(\"color\", color)\n",
    "        vis[f\"{robot.name}/{link}/capsule/p2\"].set_property(\"color\", color)\n",
    "        vis[f\"{robot.name}/{link}/capsule/cyl\"].set_property(\"color\", color)"
   ]
  },
  {
   "cell_type": "code",
   "execution_count": 7,
   "metadata": {},
   "outputs": [
    {
     "ename": "AssertionError",
     "evalue": "Expected matrix to be [n x n_dofs] ([1 x 8]) but got torch.Size([1, 7])",
     "output_type": "error",
     "traceback": [
      "\u001b[0;31m---------------------------------------------------------------------------\u001b[0m",
      "\u001b[0;31mAssertionError\u001b[0m                            Traceback (most recent call last)",
      "Cell \u001b[0;32mIn[7], line 3\u001b[0m\n\u001b[1;32m      1\u001b[0m x \u001b[39m=\u001b[39m torch\u001b[39m.\u001b[39mtensor([[\u001b[39m0\u001b[39m, \u001b[39m-\u001b[39mnp\u001b[39m.\u001b[39mpi\u001b[39m/\u001b[39m\u001b[39m4\u001b[39m, \u001b[39m0\u001b[39m, \u001b[39m0.86\u001b[39m\u001b[39m*\u001b[39m\u001b[39m-\u001b[39m\u001b[39m3\u001b[39m\u001b[39m*\u001b[39mnp\u001b[39m.\u001b[39mpi\u001b[39m/\u001b[39m\u001b[39m4\u001b[39m, \u001b[39m0\u001b[39m, np\u001b[39m.\u001b[39mpi\u001b[39m/\u001b[39m\u001b[39m2\u001b[39m, \u001b[39m0\u001b[39m]])\n\u001b[0;32m----> 3\u001b[0m base_T_links \u001b[39m=\u001b[39m robot\u001b[39m.\u001b[39;49mforward_kinematics_batch(x, return_full_link_fk\u001b[39m=\u001b[39;49m\u001b[39mTrue\u001b[39;49;00m, out_device\u001b[39m=\u001b[39;49mx\u001b[39m.\u001b[39;49mdevice, dtype\u001b[39m=\u001b[39;49mx\u001b[39m.\u001b[39;49mdtype)\n\u001b[1;32m      5\u001b[0m T1s \u001b[39m=\u001b[39m base_T_links[:, robot\u001b[39m.\u001b[39m_collision_idx0, :, :]\u001b[39m.\u001b[39mreshape(\u001b[39m-\u001b[39m\u001b[39m1\u001b[39m, \u001b[39m4\u001b[39m, \u001b[39m4\u001b[39m)\n\u001b[1;32m      6\u001b[0m T2s \u001b[39m=\u001b[39m base_T_links[:, robot\u001b[39m.\u001b[39m_collision_idx1, :, :]\u001b[39m.\u001b[39mreshape(\u001b[39m-\u001b[39m\u001b[39m1\u001b[39m, \u001b[39m4\u001b[39m, \u001b[39m4\u001b[39m)\n",
      "File \u001b[0;32m~/Projects/IKFLow/jkinpylib/scripts/../jkinpylib/robot.py:672\u001b[0m, in \u001b[0;36mRobot.forward_kinematics_batch\u001b[0;34m(self, x, out_device, dtype, return_quaternion, return_runtime, return_full_joint_fk, return_full_link_fk)\u001b[0m\n\u001b[1;32m    670\u001b[0m time0 \u001b[39m=\u001b[39m time()\n\u001b[1;32m    671\u001b[0m batch_size \u001b[39m=\u001b[39m x\u001b[39m.\u001b[39mshape[\u001b[39m0\u001b[39m]\n\u001b[0;32m--> 672\u001b[0m _assert_is_joint_angle_matrix(x, \u001b[39mself\u001b[39;49m\u001b[39m.\u001b[39;49mn_dofs)\n\u001b[1;32m    673\u001b[0m \u001b[39mif\u001b[39;00m out_device \u001b[39mis\u001b[39;00m \u001b[39mNone\u001b[39;00m:\n\u001b[1;32m    674\u001b[0m     out_device \u001b[39m=\u001b[39m x\u001b[39m.\u001b[39mdevice\n",
      "File \u001b[0;32m~/Projects/IKFLow/jkinpylib/scripts/../jkinpylib/robot.py:52\u001b[0m, in \u001b[0;36m_assert_is_joint_angle_matrix\u001b[0;34m(xs, n_dofs)\u001b[0m\n\u001b[1;32m     50\u001b[0m \u001b[39mdef\u001b[39;00m \u001b[39m_assert_is_joint_angle_matrix\u001b[39m(xs: Union[torch\u001b[39m.\u001b[39mTensor, np\u001b[39m.\u001b[39mndarray], n_dofs: \u001b[39mint\u001b[39m):\n\u001b[1;32m     51\u001b[0m     _assert_is_2d(xs)\n\u001b[0;32m---> 52\u001b[0m     \u001b[39massert\u001b[39;00m xs\u001b[39m.\u001b[39mshape[\u001b[39m1\u001b[39m] \u001b[39m==\u001b[39m n_dofs, \u001b[39mf\u001b[39m\u001b[39m\"\u001b[39m\u001b[39mExpected matrix to be [n x n_dofs] ([\u001b[39m\u001b[39m{\u001b[39;00mxs\u001b[39m.\u001b[39mshape[\u001b[39m0\u001b[39m]\u001b[39m}\u001b[39;00m\u001b[39m x \u001b[39m\u001b[39m{\u001b[39;00mn_dofs\u001b[39m}\u001b[39;00m\u001b[39m]) but got \u001b[39m\u001b[39m{\u001b[39;00mxs\u001b[39m.\u001b[39mshape\u001b[39m}\u001b[39;00m\u001b[39m\"\u001b[39m\n",
      "\u001b[0;31mAssertionError\u001b[0m: Expected matrix to be [n x n_dofs] ([1 x 8]) but got torch.Size([1, 7])"
     ]
    }
   ],
   "source": [
    "x = torch.tensor([[0, -np.pi/4, 0, 0.86*-3*np.pi/4, 0, np.pi/2, 0]])\n",
    "\n",
    "base_T_links = robot.forward_kinematics_batch(x, return_full_link_fk=True, out_device=x.device, dtype=x.dtype)\n",
    "\n",
    "T1s = base_T_links[:, robot._collision_idx0, :, :].reshape(-1, 4, 4)\n",
    "T2s = base_T_links[:, robot._collision_idx1, :, :].reshape(-1, 4, 4)\n",
    "c1s = robot._collision_capsules[robot._collision_idx0, :].expand(1, -1, -1).reshape(-1, 7)\n",
    "c2s = robot._collision_capsules[robot._collision_idx1, :].expand(1, -1, -1).reshape(-1, 7)\n",
    "self_dists = jkinpylib.geometry.capsule_capsule_distance_batch(c1s, T1s, c2s, T2s).reshape(1, -1)\n",
    "\n",
    "n = robot._capsule_idx_to_link_idx.shape[0]\n",
    "caps = robot._collision_capsules\n",
    "Tcaps = base_T_links[:, robot._capsule_idx_to_link_idx, :, :].reshape(-1, 4, 4)\n",
    "x, y, z = cube_lengths.astype(np.float32)/2\n",
    "cubes = torch.tensor([[-x, -y, -z, x, y, z]]).expand(n, 6)\n",
    "Tcubes = torch.tensor(Tcube, dtype=torch.float32).expand(n, 4, 4)\n",
    "env_dists = jkinpylib.geometry.capsule_cuboid_distance_batch(caps, Tcaps, cubes, Tcubes)\n",
    "\n",
    "for link_i, link in enumerate(links):\n",
    "    if link is None:\n",
    "        continue\n",
    "\n",
    "    T = base_T_links[0, link_i, :, :].cpu().numpy().astype(np.float64)\n",
    "    vis[f\"{robot.name}/{link}\"].set_transform(T)\n",
    "\n",
    "    color = [0.0, 1.0, 0.0, 0.4]\n",
    "    is_self_collide = torch.any(self_dists[0, robot._collision_idx0 == link_i] < 0) or torch.any(self_dists[0, robot._collision_idx1 == link_i] < 0)\n",
    "    if is_self_collide:\n",
    "        color = [1.0, 0.0, 0.0, 0.4]\n",
    "    \n",
    "    is_env_collide = env_dists[link_i, 0] < 0\n",
    "    if is_env_collide:\n",
    "        color = [1.0, 0.5, 0.0, 0.4]\n",
    "\n",
    "    vis[f\"{robot.name}/{link}/capsule/p1\"].set_property(\"color\", color)\n",
    "    vis[f\"{robot.name}/{link}/capsule/p2\"].set_property(\"color\", color)\n",
    "    vis[f\"{robot.name}/{link}/capsule/cyl\"].set_property(\"color\", color)"
   ]
  },
  {
   "cell_type": "code",
   "execution_count": null,
   "metadata": {},
   "outputs": [],
   "source": []
  },
  {
   "cell_type": "code",
   "execution_count": null,
   "metadata": {},
   "outputs": [],
   "source": []
  }
 ],
 "metadata": {
  "kernelspec": {
   "display_name": "Python 3 (ipykernel)",
   "language": "python",
   "name": "python3"
  },
  "language_info": {
   "codemirror_mode": {
    "name": "ipython",
    "version": 3
   },
   "file_extension": ".py",
   "mimetype": "text/x-python",
   "name": "python",
   "nbconvert_exporter": "python",
   "pygments_lexer": "ipython3",
   "version": "3.8.16"
  }
 },
 "nbformat": 4,
 "nbformat_minor": 2
}
