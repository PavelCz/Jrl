{
 "cells": [
  {
   "cell_type": "code",
   "execution_count": 1,
   "metadata": {},
   "outputs": [],
   "source": [
    "import sys, os\n",
    "os.environ[\"PYTORCH_ENABLE_MPS_FALLBACK\"] = \"1\"\n",
    "sys.path.append(\"..\")\n",
    "import jkinpylib\n",
    "import meshcat\n",
    "import torch\n",
    "import numpy as np\n",
    "import time\n",
    "torch.set_default_device(jkinpylib.config.DEVICE)"
   ]
  },
  {
   "cell_type": "code",
   "execution_count": 2,
   "metadata": {},
   "outputs": [],
   "source": [
    "class Capsule():\n",
    "    def __init__(self, p1, p2, r):\n",
    "        super(Capsule, self).__init__()\n",
    "        self.length = np.linalg.norm(p2 - p1)\n",
    "        self.radius = r\n",
    "        self.T = np.eye(4)\n",
    "        self.T[:3, 3] = (p1 + p2) / 2\n",
    "        v = p2 - p1\n",
    "        v = v / np.linalg.norm(v)\n",
    "        x, y, z = v\n",
    "        sign = 1 if z > 0 else -1\n",
    "        a = -1 / (sign + z)\n",
    "        b = x * y * a\n",
    "        t1 = np.array([1 + sign * x * x * a, sign * b, -sign * x])\n",
    "        t2 = np.array([b, sign + y * y * a, -y])\n",
    "        self.T[:3, 0] = t1\n",
    "        self.T[:3, 1] = v # Meshcat uses y as axis of rotational symmetry\n",
    "        self.T[:3, 2] = t2"
   ]
  },
  {
   "cell_type": "code",
   "execution_count": 3,
   "metadata": {},
   "outputs": [
    {
     "name": "stdout",
     "output_type": "stream",
     "text": [
      "You can open the visualizer by visiting the following URL:\n",
      "http://127.0.0.1:7001/static/\n",
      "joint.name=panda_joint1, joint.joint_type=revolute\n",
      "joint.name=panda_joint2, joint.joint_type=revolute\n",
      "joint.name=panda_joint3, joint.joint_type=revolute\n",
      "joint.name=panda_joint4, joint.joint_type=revolute\n",
      "joint.name=panda_joint5, joint.joint_type=revolute\n",
      "joint.name=panda_joint6, joint.joint_type=revolute\n",
      "joint.name=panda_joint7, joint.joint_type=revolute\n",
      "joint.name=panda_joint8, joint.joint_type=fixed\n",
      "joint.name=panda_hand_joint, joint.joint_type=fixed\n",
      "WorldModel::LoadRobot: /Users/drm/.cache/jkinpylib/temp_urdfs/panda_arm_hand_formatted_link_filepaths_absolute.urdf\n",
      "joint mimic: no multiplier, using default value of 1 \n",
      "joint mimic: no offset, using default value of 0 \n",
      "URDFParser: Link size: 17\n",
      "URDFParser: Joint size: 12\n",
      "Geometry: Loading 12 meshes from /Users/drm/Projects/IKFLow/jkinpylib/scripts/../jkinpylib/urdfs/panda/meshes/visual/link0.dae into Group\n",
      "Geometry: Loading 4 meshes from /Users/drm/Projects/IKFLow/jkinpylib/scripts/../jkinpylib/urdfs/panda/meshes/visual/link3.dae into Group\n",
      "Geometry: Loading 4 meshes from /Users/drm/Projects/IKFLow/jkinpylib/scripts/../jkinpylib/urdfs/panda/meshes/visual/link4.dae into Group\n",
      "Geometry: Loading 3 meshes from /Users/drm/Projects/IKFLow/jkinpylib/scripts/../jkinpylib/urdfs/panda/meshes/visual/link5.dae into Group\n",
      "Geometry: Loading 17 meshes from /Users/drm/Projects/IKFLow/jkinpylib/scripts/../jkinpylib/urdfs/panda/meshes/visual/link6.dae into Group\n",
      "Geometry: Loading 8 meshes from /Users/drm/Projects/IKFLow/jkinpylib/scripts/../jkinpylib/urdfs/panda/meshes/visual/link7.dae into Group\n",
      "Geometry: Loading 5 meshes from /Users/drm/Projects/IKFLow/jkinpylib/scripts/../jkinpylib/urdfs/panda/meshes/visual/hand.dae into Group\n",
      "Geometry: Loading 2 meshes from /Users/drm/Projects/IKFLow/jkinpylib/scripts/../jkinpylib/urdfs/panda/meshes/visual/finger.dae into Group\n",
      "Geometry: Loading 2 meshes from /Users/drm/Projects/IKFLow/jkinpylib/scripts/../jkinpylib/urdfs/panda/meshes/visual/finger.dae into Group\n",
      "URDFParser: Done loading robot file /Users/drm/.cache/jkinpylib/temp_urdfs/panda_arm_hand_formatted_link_filepaths_absolute.urdf\n",
      "Initialized robot collision data structures in time 0.348558\n"
     ]
    },
    {
     "data": {
      "text/html": [
       "\n",
       "            <div style=\"height: 400px; width: 100%; overflow-x: auto; overflow-y: hidden; resize: both\">\n",
       "            <iframe src=\"http://127.0.0.1:7001/static/\" style=\"width: 100%; height: 100%; border: none\"></iframe>\n",
       "            </div>\n",
       "            "
      ],
      "text/plain": [
       "<IPython.core.display.HTML object>"
      ]
     },
     "execution_count": 3,
     "metadata": {},
     "output_type": "execute_result"
    }
   ],
   "source": [
    "vis = meshcat.Visualizer()\n",
    "robot = jkinpylib.robots.Panda()\n",
    "\n",
    "# A bit hacky, must match the number of links in the robot\n",
    "links = [\n",
    "    \"link0\",\n",
    "    \"link1\",\n",
    "    \"link2\",\n",
    "    \"link3\",\n",
    "    \"link4\",\n",
    "    \"link5\",\n",
    "    \"link6\",\n",
    "    \"link7\",\n",
    "    # None,\n",
    "    #\"hand\"\n",
    "]\n",
    "link_mask = torch.tensor([link is not None for link in links], dtype=torch.bool)\n",
    "\n",
    "Tcube = meshcat.transformations.translation_matrix([0.4, 0.1, 0.5]) @ meshcat.transformations.rotation_matrix(0.7, [1, 2, 3])\n",
    "cube_lengths = np.array([0.4, 0.5, 0.3])\n",
    "vis[f\"cuboid\"].set_object(\n",
    "    meshcat.geometry.Box(cube_lengths),\n",
    "    meshcat.geometry.MeshToonMaterial(color=0xff8800, wireframe=True)\n",
    ")\n",
    "vis[f\"cuboid\"].set_transform(Tcube)\n",
    "\n",
    "for link_i, link in enumerate(links):\n",
    "    capsule = robot._collision_capsules[link_i, :].cpu().numpy().astype(np.float64)\n",
    "    p1, p2, capsule_radius = capsule[0:3], capsule[3:6], capsule[6]\n",
    "    capsule_geom = Capsule(p1, p2, capsule_radius)\n",
    "    capsule_material = meshcat.geometry.MeshToonMaterial(color=0x8888ff, opacity=0.4)\n",
    "\n",
    "    vis[f\"panda/{link}/capsule/p1\"].set_transform(meshcat.transformations.translation_matrix(p1))\n",
    "    vis[f\"panda/{link}/capsule/p2\"].set_transform(meshcat.transformations.translation_matrix(p2))\n",
    "    vis[f\"panda/{link}/capsule/cyl\"].set_transform(capsule_geom.T)\n",
    "    vis[f\"panda/{link}/mesh\"].set_object(\n",
    "        meshcat.geometry.DaeMeshGeometry.from_file(f\"../jkinpylib/urdfs/panda/meshes/visual/{link}.dae\"),\n",
    "        meshcat.geometry.MeshLambertMaterial(color=0xffffff)\n",
    "    )\n",
    "    vis[f\"panda/{link}/capsule/p1\"].set_object(meshcat.geometry.Sphere(capsule_radius), capsule_material)\n",
    "    vis[f\"panda/{link}/capsule/p2\"].set_object(meshcat.geometry.Sphere(capsule_radius), capsule_material)\n",
    "    cyl_geom = meshcat.geometry.Cylinder(capsule_geom.length, capsule_radius)\n",
    "    vis[f\"panda/{link}/capsule/cyl\"].set_object(cyl_geom, capsule_material)\n",
    "\n",
    "    \n",
    "vis.jupyter_cell()"
   ]
  },
  {
   "cell_type": "code",
   "execution_count": 4,
   "metadata": {},
   "outputs": [
    {
     "name": "stdout",
     "output_type": "stream",
     "text": [
      "joint.name=panda_joint1, joint.joint_type=revolute\n",
      "joint.name=panda_joint2, joint.joint_type=revolute\n",
      "joint.name=panda_joint3, joint.joint_type=revolute\n",
      "joint.name=panda_joint4, joint.joint_type=revolute\n",
      "joint.name=panda_joint5, joint.joint_type=revolute\n",
      "joint.name=panda_joint6, joint.joint_type=revolute\n",
      "joint.name=panda_joint7, joint.joint_type=revolute\n",
      "joint.name=panda_joint8, joint.joint_type=fixed\n",
      "joint.name=panda_hand_joint, joint.joint_type=fixed\n"
     ]
    },
    {
     "name": "stderr",
     "output_type": "stream",
     "text": [
      "/Users/drm/.pyenv/versions/3.8.16/lib/python3.8/site-packages/torch/utils/_device.py:62: UserWarning: The operator 'aten::linalg_cholesky_ex.L' is not currently supported on the MPS backend and will fall back to run on the CPU. This may have performance implications. (Triggered internally at /Users/runner/work/pytorch/pytorch/pytorch/aten/src/ATen/mps/MPSFallback.mm:11.)\n",
      "  return func(*args, **kwargs)\n",
      "/Users/drm/.pyenv/versions/3.8.16/lib/python3.8/site-packages/torch/_tensor.py:677: UserWarning: torch.lu is deprecated in favor of torch.linalg.lu_factor / torch.linalg.lu_factor_ex and will be removed in a future PyTorch release.\n",
      "LU, pivots = torch.lu(A, compute_pivots)\n",
      "should be replaced with\n",
      "LU, pivots = torch.linalg.lu_factor(A, compute_pivots)\n",
      "and\n",
      "LU, pivots, info = torch.lu(A, compute_pivots, get_infos=True)\n",
      "should be replaced with\n",
      "LU, pivots, info = torch.linalg.lu_factor_ex(A, compute_pivots) (Triggered internally at /Users/runner/work/pytorch/pytorch/pytorch/aten/src/ATen/native/BatchLinearAlgebra.cpp:2001.)\n",
      "  LU, pivots, infos = torch._lu_with_info(\n",
      "/Users/drm/.pyenv/versions/3.8.16/lib/python3.8/site-packages/torch/utils/_device.py:62: UserWarning: torch.lu_solve is deprecated in favor of torch.linalg.lu_solveand will be removed in a future PyTorch release.\n",
      "Note that torch.linalg.lu_solve has its arguments reversed.\n",
      "X = torch.lu_solve(B, LU, pivots)\n",
      "should be replaced with\n",
      "X = torch.linalg.lu_solve(LU, pivots, B) (Triggered internally at /Users/runner/work/pytorch/pytorch/pytorch/aten/src/ATen/native/BatchLinearAlgebra.cpp:2155.)\n",
      "  return func(*args, **kwargs)\n"
     ]
    },
    {
     "name": "stdout",
     "output_type": "stream",
     "text": [
      "base_T_links.shape: torch.Size([1, 10, 4, 4])\n",
      "n: 8\n",
      "robot._capsule_idx_to_link_idx: torch.Size([8]) tensor([0, 1, 2, 3, 4, 5, 6, 7], device='mps:0')\n",
      "tensor([[-0.2000, -0.2500, -0.1500,  0.2000,  0.2500,  0.1500],\n",
      "        [-0.2000, -0.2500, -0.1500,  0.2000,  0.2500,  0.1500],\n",
      "        [-0.2000, -0.2500, -0.1500,  0.2000,  0.2500,  0.1500],\n",
      "        [-0.2000, -0.2500, -0.1500,  0.2000,  0.2500,  0.1500],\n",
      "        [-0.2000, -0.2500, -0.1500,  0.2000,  0.2500,  0.1500],\n",
      "        [-0.2000, -0.2500, -0.1500,  0.2000,  0.2500,  0.1500],\n",
      "        [-0.2000, -0.2500, -0.1500,  0.2000,  0.2500,  0.1500],\n",
      "        [-0.2000, -0.2500, -0.1500,  0.2000,  0.2500,  0.1500]],\n",
      "       device='mps:0')\n",
      "torch.Size([8, 7]) torch.Size([8, 4, 4]) torch.Size([8, 6]) torch.Size([8, 4, 4])\n"
     ]
    }
   ],
   "source": [
    "x = torch.tensor([[0, -np.pi/4, 0, 0.86*-3*np.pi/4, 0, np.pi/2, 0]])\n",
    "\n",
    "base_T_links = robot.forward_kinematics_batch(x, return_full_link_fk=True, out_device=x.device, dtype=x.dtype)\n",
    "\n",
    "T1s = base_T_links[:, robot._collision_idx0, :, :].reshape(-1, 4, 4)\n",
    "T2s = base_T_links[:, robot._collision_idx1, :, :].reshape(-1, 4, 4)\n",
    "c1s = robot._collision_capsules[robot._collision_idx0, :].expand(1, -1, -1).reshape(-1, 7)\n",
    "c2s = robot._collision_capsules[robot._collision_idx1, :].expand(1, -1, -1).reshape(-1, 7)\n",
    "self_dists = jkinpylib.geometry.capsule_capsule_distance_batch(c1s, T1s, c2s, T2s).reshape(1, -1)\n",
    "\n",
    "n = robot._capsule_idx_to_link_idx.shape[0]\n",
    "print(\"base_T_links.shape:\", base_T_links.shape)\n",
    "print(\"n:\", n)\n",
    "caps = robot._collision_capsules\n",
    "print(\"robot._capsule_idx_to_link_idx:\", robot._capsule_idx_to_link_idx.shape, robot._capsule_idx_to_link_idx)\n",
    "Tcaps = base_T_links[:, robot._capsule_idx_to_link_idx, :, :].reshape(-1, 4, 4)\n",
    "x, y, z = cube_lengths.astype(np.float32)/2\n",
    "cubes = torch.tensor([[-x, -y, -z, x, y, z]]).expand(n, 6)\n",
    "Tcubes = torch.tensor(Tcube, dtype=torch.float32).expand(n, 4, 4)\n",
    "print(cubes)\n",
    "print(caps.shape, Tcaps.shape, cubes.shape, Tcubes.shape)\n",
    "env_dists = jkinpylib.geometry.capsule_cuboid_distance_batch(caps, Tcaps, cubes, Tcubes)\n",
    "\n",
    "for link_i, link in enumerate(links):\n",
    "    if link is None:\n",
    "        continue\n",
    "\n",
    "    T = base_T_links[0, link_i, :, :].cpu().numpy().astype(np.float64)\n",
    "    vis[f\"panda/{link}\"].set_transform(T)\n",
    "\n",
    "    color = [0.0, 1.0, 0.0, 0.4]\n",
    "    is_self_collide = torch.any(self_dists[0, robot._collision_idx0 == link_i] < 0) or torch.any(self_dists[0, robot._collision_idx1 == link_i] < 0)\n",
    "    if is_self_collide:\n",
    "        color = [1.0, 0.0, 0.0, 0.4]\n",
    "    \n",
    "    is_env_collide = env_dists[0, link_i] < 0\n",
    "    if is_env_collide:\n",
    "        color = [1.0, 0.5, 0.0, 0.4]\n",
    "\n",
    "    vis[f\"panda/{link}/capsule/p1\"].set_property(\"color\", color)\n",
    "    vis[f\"panda/{link}/capsule/p2\"].set_property(\"color\", color)\n",
    "    vis[f\"panda/{link}/capsule/cyl\"].set_property(\"color\", color)"
   ]
  },
  {
   "cell_type": "code",
   "execution_count": null,
   "metadata": {},
   "outputs": [],
   "source": []
  }
 ],
 "metadata": {
  "kernelspec": {
   "display_name": "jkinpylib-85zxWVKj-py3.8",
   "language": "python",
   "name": "python3"
  },
  "language_info": {
   "codemirror_mode": {
    "name": "ipython",
    "version": 3
   },
   "file_extension": ".py",
   "mimetype": "text/x-python",
   "name": "python",
   "nbconvert_exporter": "python",
   "pygments_lexer": "ipython3",
   "version": "3.8.16"
  },
  "orig_nbformat": 4
 },
 "nbformat": 4,
 "nbformat_minor": 2
}
